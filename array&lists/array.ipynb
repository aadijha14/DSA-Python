{
 "cells": [
  {
   "cell_type": "code",
   "execution_count": 2,
   "id": "77fe9a0a",
   "metadata": {},
   "outputs": [],
   "source": [
    "from array import *"
   ]
  },
  {
   "cell_type": "markdown",
   "id": "93cb55cf",
   "metadata": {},
   "source": [
    "1. Create an array and traverse."
   ]
  },
  {
   "cell_type": "code",
   "execution_count": 6,
   "id": "43930537",
   "metadata": {},
   "outputs": [],
   "source": [
    "my_array = array('i', [1, 2, 3, 4, 5])"
   ]
  },
  {
   "cell_type": "code",
   "execution_count": 7,
   "id": "f6fd3fe0",
   "metadata": {},
   "outputs": [
    {
     "name": "stdout",
     "output_type": "stream",
     "text": [
      "1\n",
      "2\n",
      "3\n",
      "4\n",
      "5\n"
     ]
    }
   ],
   "source": [
    "for i in my_array:\n",
    "    print(i)"
   ]
  },
  {
   "cell_type": "markdown",
   "id": "a7a1da6f",
   "metadata": {},
   "source": [
    "Access individual elements through indexes"
   ]
  },
  {
   "cell_type": "code",
   "execution_count": 8,
   "id": "625b5a06",
   "metadata": {},
   "outputs": [
    {
     "name": "stdout",
     "output_type": "stream",
     "text": [
      "1\n"
     ]
    }
   ],
   "source": [
    "print(my_array[0])"
   ]
  },
  {
   "cell_type": "markdown",
   "id": "6f8f273e",
   "metadata": {},
   "source": [
    "Append any value to the array using append() method"
   ]
  },
  {
   "cell_type": "code",
   "execution_count": 10,
   "id": "7ea1a72b",
   "metadata": {},
   "outputs": [
    {
     "data": {
      "text/plain": [
       "array('i', [1, 2, 3, 4, 5, 6])"
      ]
     },
     "execution_count": 10,
     "metadata": {},
     "output_type": "execute_result"
    }
   ],
   "source": [
    "my_array.append(6)\n",
    "my_array"
   ]
  },
  {
   "cell_type": "markdown",
   "id": "05c1fade",
   "metadata": {},
   "source": [
    "Insert value in an array using insert() method"
   ]
  },
  {
   "cell_type": "code",
   "execution_count": 12,
   "id": "e0fb64a1",
   "metadata": {},
   "outputs": [
    {
     "name": "stdout",
     "output_type": "stream",
     "text": [
      "array('i', [1, 11, 2, 3, 4, 5, 6])\n"
     ]
    }
   ],
   "source": [
    "my_array.insert(1, 11)\n",
    "print(my_array)"
   ]
  },
  {
   "cell_type": "markdown",
   "id": "326a567c",
   "metadata": {},
   "source": [
    "Extend python array using extend() method"
   ]
  },
  {
   "cell_type": "code",
   "execution_count": 14,
   "id": "d04a3e7d",
   "metadata": {},
   "outputs": [
    {
     "name": "stdout",
     "output_type": "stream",
     "text": [
      "array('i', [1, 11, 2, 3, 4, 5, 6, 7, 8, 9, 7, 8, 9])\n"
     ]
    }
   ],
   "source": [
    "my_array_2 = array('i', [7, 8, 9])\n",
    "my_array.extend(my_array_2)\n",
    "print(my_array)"
   ]
  },
  {
   "cell_type": "markdown",
   "id": "7d909f1b",
   "metadata": {},
   "source": [
    "Add items from list into array using fromlist() method"
   ]
  },
  {
   "cell_type": "code",
   "execution_count": 16,
   "id": "d64d0206",
   "metadata": {},
   "outputs": [
    {
     "name": "stdout",
     "output_type": "stream",
     "text": [
      "None\n",
      "array('i', [1, 11, 2, 3, 4, 5, 6, 7, 8, 9, 7, 8, 9, 123, 145, 1241, 123, 145, 1241])\n"
     ]
    }
   ],
   "source": [
    "list1 = [123, 145, 1241]\n",
    "print(my_array.fromlist(list1))\n",
    "print(my_array)"
   ]
  },
  {
   "cell_type": "markdown",
   "id": "dae6de78",
   "metadata": {},
   "source": [
    "Remove any array element using remove() method"
   ]
  },
  {
   "cell_type": "code",
   "execution_count": 18,
   "id": "552dad9a",
   "metadata": {},
   "outputs": [
    {
     "name": "stdout",
     "output_type": "stream",
     "text": [
      "array('i', [1, 2, 3, 4, 5, 6, 7, 8, 9, 7, 8, 9, 123, 145, 1241, 123, 145, 1241])\n"
     ]
    }
   ],
   "source": [
    "my_array.remove(11)\n",
    "print(my_array)"
   ]
  },
  {
   "cell_type": "markdown",
   "id": "0f83831f",
   "metadata": {},
   "source": [
    " Remove last array element using pop() method"
   ]
  },
  {
   "cell_type": "code",
   "execution_count": 19,
   "id": "a0edd93b",
   "metadata": {},
   "outputs": [
    {
     "name": "stdout",
     "output_type": "stream",
     "text": [
      "array('i', [1, 2, 3, 4, 5, 6, 7, 8, 9, 7, 8, 9, 123, 145, 1241, 123, 145])\n"
     ]
    }
   ],
   "source": [
    "my_array.pop()\n",
    "print(my_array)"
   ]
  },
  {
   "cell_type": "markdown",
   "id": "66d6bd57",
   "metadata": {},
   "source": [
    "Fetch any element through its index using index() method"
   ]
  },
  {
   "cell_type": "code",
   "execution_count": null,
   "id": "bb83f88c",
   "metadata": {},
   "outputs": [],
   "source": []
  }
 ],
 "metadata": {
  "kernelspec": {
   "display_name": "Python 3",
   "language": "python",
   "name": "python3"
  },
  "language_info": {
   "codemirror_mode": {
    "name": "ipython",
    "version": 3
   },
   "file_extension": ".py",
   "mimetype": "text/x-python",
   "name": "python",
   "nbconvert_exporter": "python",
   "pygments_lexer": "ipython3",
   "version": "3.12.6"
  }
 },
 "nbformat": 4,
 "nbformat_minor": 5
}
